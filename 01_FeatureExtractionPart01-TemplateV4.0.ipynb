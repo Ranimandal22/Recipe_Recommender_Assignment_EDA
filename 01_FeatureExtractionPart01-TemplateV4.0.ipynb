{
 "cells": [
  {
   "cell_type": "markdown",
   "id": "640bd3f7",
   "metadata": {},
   "source": [
    "## Initial Setup"
   ]
  },
  {
   "cell_type": "code",
   "execution_count": 1,
   "id": "04ed2518",
   "metadata": {},
   "outputs": [
    {
     "data": {
      "application/vnd.jupyter.widget-view+json": {
       "model_id": "beaf6a9d93f543bd86bd545909e4b422",
       "version_major": 2,
       "version_minor": 0
      },
      "text/plain": [
       "VBox()"
      ]
     },
     "metadata": {},
     "output_type": "display_data"
    },
    {
     "name": "stdout",
     "output_type": "stream",
     "text": [
      "Starting Spark application\n"
     ]
    },
    {
     "data": {
      "text/html": [
       "<table>\n",
       "<tr><th>ID</th><th>YARN Application ID</th><th>Kind</th><th>State</th><th>Spark UI</th><th>Driver log</th><th>User</th><th>Current session?</th></tr><tr><td>0</td><td>application_1696239912257_0001</td><td>pyspark</td><td>idle</td><td><a target=\"_blank\" href=\"http://ip-172-31-37-211.ec2.internal:20888/proxy/application_1696239912257_0001/\" class=\"emr-proxy-link\" emr-resource=\"j-2MOWX8P4YRDTO\n",
       "\" application-id=\"application_1696239912257_0001\">Link</a></td><td><a target=\"_blank\" href=\"http://ip-172-31-32-239.ec2.internal:8042/node/containerlogs/container_1696239912257_0001_01_000001/livy\" >Link</a></td><td>None</td><td>✔</td></tr></table>"
      ],
      "text/plain": [
       "<IPython.core.display.HTML object>"
      ]
     },
     "metadata": {},
     "output_type": "display_data"
    },
    {
     "data": {
      "application/vnd.jupyter.widget-view+json": {
       "model_id": "",
       "version_major": 2,
       "version_minor": 0
      },
      "text/plain": [
       "FloatProgress(value=0.0, bar_style='info', description='Progress:', layout=Layout(height='25px', width='50%'),…"
      ]
     },
     "metadata": {},
     "output_type": "display_data"
    },
    {
     "name": "stdout",
     "output_type": "stream",
     "text": [
      "SparkSession available as 'spark'.\n"
     ]
    },
    {
     "data": {
      "application/vnd.jupyter.widget-view+json": {
       "model_id": "",
       "version_major": 2,
       "version_minor": 0
      },
      "text/plain": [
       "FloatProgress(value=0.0, bar_style='info', description='Progress:', layout=Layout(height='25px', width='50%'),…"
      ]
     },
     "metadata": {},
     "output_type": "display_data"
    }
   ],
   "source": [
    "# importing spark session\n",
    "\n",
    "from pyspark.sql import SparkSession"
   ]
  },
  {
   "cell_type": "code",
   "execution_count": 2,
   "id": "a737ad95",
   "metadata": {},
   "outputs": [
    {
     "data": {
      "application/vnd.jupyter.widget-view+json": {
       "model_id": "4479adc9a996403e9803d543b07a419e",
       "version_major": 2,
       "version_minor": 0
      },
      "text/plain": [
       "VBox()"
      ]
     },
     "metadata": {},
     "output_type": "display_data"
    },
    {
     "data": {
      "application/vnd.jupyter.widget-view+json": {
       "model_id": "",
       "version_major": 2,
       "version_minor": 0
      },
      "text/plain": [
       "FloatProgress(value=0.0, bar_style='info', description='Progress:', layout=Layout(height='25px', width='50%'),…"
      ]
     },
     "metadata": {},
     "output_type": "display_data"
    },
    {
     "name": "stdout",
     "output_type": "stream",
     "text": [
      "<pyspark.sql.session.SparkSession object at 0x7fe505a45c50>"
     ]
    }
   ],
   "source": [
    "# Starting the SparkSession\n",
    "\n",
    "spark = SparkSession.builder.appName(\"Basics\").getOrCreate()\n",
    "\n",
    "# SparkSession object\n",
    "\n",
    "spark"
   ]
  },
  {
   "cell_type": "code",
   "execution_count": 3,
   "id": "d956d7bf",
   "metadata": {},
   "outputs": [
    {
     "data": {
      "application/vnd.jupyter.widget-view+json": {
       "model_id": "3964d4892d664e5aa92828838adb3655",
       "version_major": 2,
       "version_minor": 0
      },
      "text/plain": [
       "VBox()"
      ]
     },
     "metadata": {},
     "output_type": "display_data"
    },
    {
     "data": {
      "application/vnd.jupyter.widget-view+json": {
       "model_id": "",
       "version_major": 2,
       "version_minor": 0
      },
      "text/plain": [
       "FloatProgress(value=0.0, bar_style='info', description='Progress:', layout=Layout(height='25px', width='50%'),…"
      ]
     },
     "metadata": {},
     "output_type": "display_data"
    }
   ],
   "source": [
    "# Importing spark fuctions\n",
    "\n",
    "from pyspark.sql import functions as F\n",
    "\n",
    "# Import for typecasting columns\n",
    "\n",
    "from pyspark.sql.types import IntegerType,BooleanType,DateType,FloatType,StringType\n",
    "from pyspark.sql.types import ArrayType"
   ]
  },
  {
   "cell_type": "markdown",
   "id": "652d9b65",
   "metadata": {},
   "source": [
    " ## <font color='red'>Task 01: Read the data </font>"
   ]
  },
  {
   "cell_type": "markdown",
   "id": "ad8a30e9",
   "metadata": {},
   "source": [
    "### <font color='blue'>Solution to Task 1 </font>"
   ]
  },
  {
   "cell_type": "code",
   "execution_count": 4,
   "id": "e20dae66",
   "metadata": {},
   "outputs": [
    {
     "data": {
      "application/vnd.jupyter.widget-view+json": {
       "model_id": "f7b7aa7231bc491f9ef44218cbaac13a",
       "version_major": 2,
       "version_minor": 0
      },
      "text/plain": [
       "VBox()"
      ]
     },
     "metadata": {},
     "output_type": "display_data"
    },
    {
     "data": {
      "application/vnd.jupyter.widget-view+json": {
       "model_id": "",
       "version_major": 2,
       "version_minor": 0
      },
      "text/plain": [
       "FloatProgress(value=0.0, bar_style='info', description='Progress:', layout=Layout(height='25px', width='50%'),…"
      ]
     },
     "metadata": {},
     "output_type": "display_data"
    }
   ],
   "source": [
    "# Task 01 Cell 1 out of 1\n",
    "\n",
    "raw_recipes_df = (spark.read.csv(\"s3a://raw-recipes-clean-upgrad/RAW_recipes_cleaned.csv\", \n",
    "                  inferSchema = True,header = True))  "
   ]
  },
  {
   "cell_type": "code",
   "execution_count": 5,
   "id": "a2890c8d",
   "metadata": {},
   "outputs": [
    {
     "data": {
      "application/vnd.jupyter.widget-view+json": {
       "model_id": "b44dca4827184e68af5aa203a3c2ce69",
       "version_major": 2,
       "version_minor": 0
      },
      "text/plain": [
       "VBox()"
      ]
     },
     "metadata": {},
     "output_type": "display_data"
    },
    {
     "data": {
      "application/vnd.jupyter.widget-view+json": {
       "model_id": "",
       "version_major": 2,
       "version_minor": 0
      },
      "text/plain": [
       "FloatProgress(value=0.0, bar_style='info', description='Progress:', layout=Layout(height='25px', width='50%'),…"
      ]
     },
     "metadata": {},
     "output_type": "display_data"
    },
    {
     "name": "stdout",
     "output_type": "stream",
     "text": [
      "root\n",
      " |-- name: string (nullable = true)\n",
      " |-- id: integer (nullable = true)\n",
      " |-- minutes: integer (nullable = true)\n",
      " |-- contributor_id: integer (nullable = true)\n",
      " |-- submitted: string (nullable = true)\n",
      " |-- tags: string (nullable = true)\n",
      " |-- nutrition: string (nullable = true)\n",
      " |-- n_steps: integer (nullable = true)\n",
      " |-- steps: string (nullable = true)\n",
      " |-- description: string (nullable = true)\n",
      " |-- ingredients: string (nullable = true)\n",
      " |-- n_ingredients: integer (nullable = true)"
     ]
    }
   ],
   "source": [
    "# printing the Schema of raw_recipes_df\n",
    "\n",
    "raw_recipes_df.printSchema()"
   ]
  },
  {
   "cell_type": "markdown",
   "id": "62407b85",
   "metadata": {},
   "source": [
    "<font color='blue'>Test cases for Task 01</font>"
   ]
  },
  {
   "cell_type": "code",
   "execution_count": 6,
   "id": "a5b8d8b3",
   "metadata": {
    "scrolled": true
   },
   "outputs": [
    {
     "data": {
      "application/vnd.jupyter.widget-view+json": {
       "model_id": "cd1f64c0f0e942c8921ad061dd71db89",
       "version_major": 2,
       "version_minor": 0
      },
      "text/plain": [
       "VBox()"
      ]
     },
     "metadata": {},
     "output_type": "display_data"
    },
    {
     "data": {
      "application/vnd.jupyter.widget-view+json": {
       "model_id": "",
       "version_major": 2,
       "version_minor": 0
      },
      "text/plain": [
       "FloatProgress(value=0.0, bar_style='info', description='Progress:', layout=Layout(height='25px', width='50%'),…"
      ]
     },
     "metadata": {},
     "output_type": "display_data"
    }
   ],
   "source": [
    "# Code check cell\n",
    "# Do not edit cells with assert commands\n",
    "# If an error is shown after running this cell, please recheck your code.  \n",
    "\n",
    "assert raw_recipes_df.count() == 231637, \"There is a mistake in reading the data.\"\n",
    "assert len(raw_recipes_df.columns) == 12, \"There is a mistake in reading the data.\"\n",
    "assert raw_recipes_df.schema[\"minutes\"].dataType == IntegerType(), \"The data types have not been read correctly.\"\n",
    "assert raw_recipes_df.schema[\"tags\"].dataType == StringType(), \"The data types have not been read correctly.\"\n",
    "assert raw_recipes_df.schema[\"n_ingredients\"].dataType == IntegerType(), \"The data types have not been read correctly.\""
   ]
  },
  {
   "cell_type": "markdown",
   "id": "8d240566",
   "metadata": {},
   "source": [
    "## Extract ```nutrition``` values "
   ]
  },
  {
   "cell_type": "code",
   "execution_count": 7,
   "id": "e60b6807",
   "metadata": {},
   "outputs": [
    {
     "data": {
      "application/vnd.jupyter.widget-view+json": {
       "model_id": "64388d18e0e84224a945ee16059ed61a",
       "version_major": 2,
       "version_minor": 0
      },
      "text/plain": [
       "VBox()"
      ]
     },
     "metadata": {},
     "output_type": "display_data"
    },
    {
     "data": {
      "application/vnd.jupyter.widget-view+json": {
       "model_id": "",
       "version_major": 2,
       "version_minor": 0
      },
      "text/plain": [
       "FloatProgress(value=0.0, bar_style='info', description='Progress:', layout=Layout(height='25px', width='50%'),…"
      ]
     },
     "metadata": {},
     "output_type": "display_data"
    }
   ],
   "source": [
    "# List of nutrition columns\n",
    "\n",
    "nutrition_column_names = ['calories',\n",
    "                          'total_fat_PDV',\n",
    "                          'sugar_PDV',\n",
    "                          'sodium_PDV',\n",
    "                          'protein_PDV',\n",
    "                          'saturated_fat_PDV',\n",
    "                          'carbohydrates_PDV']"
   ]
  },
  {
   "cell_type": "markdown",
   "id": "383e4450",
   "metadata": {},
   "source": [
    " ## <font color='red'>Task 02: Extract individual features from the nutrition column."
   ]
  },
  {
   "cell_type": "markdown",
   "id": "da588328",
   "metadata": {},
   "source": [
    "### <font color='blue'>Solution to Task 2 </font>"
   ]
  },
  {
   "cell_type": "code",
   "execution_count": 8,
   "id": "b1e144cc",
   "metadata": {},
   "outputs": [
    {
     "data": {
      "application/vnd.jupyter.widget-view+json": {
       "model_id": "a2a63f73d97e46ac9784e51bc3e14aad",
       "version_major": 2,
       "version_minor": 0
      },
      "text/plain": [
       "VBox()"
      ]
     },
     "metadata": {},
     "output_type": "display_data"
    },
    {
     "data": {
      "application/vnd.jupyter.widget-view+json": {
       "model_id": "",
       "version_major": 2,
       "version_minor": 0
      },
      "text/plain": [
       "FloatProgress(value=0.0, bar_style='info', description='Progress:', layout=Layout(height='25px', width='50%'),…"
      ]
     },
     "metadata": {},
     "output_type": "display_data"
    },
    {
     "name": "stdout",
     "output_type": "stream",
     "text": [
      "+------------------------------------------+\n",
      "|nutrition                                 |\n",
      "+------------------------------------------+\n",
      "|[51.5, 0.0, 13.0, 0.0, 2.0, 0.0, 4.0]     |\n",
      "|[173.4, 18.0, 0.0, 17.0, 22.0, 35.0, 1.0] |\n",
      "|[269.8, 22.0, 32.0, 48.0, 39.0, 27.0, 5.0]|\n",
      "+------------------------------------------+\n",
      "only showing top 3 rows"
     ]
    }
   ],
   "source": [
    "# displaying nutrition column\n",
    "\n",
    "raw_recipes_df.select('nutrition').show(3,truncate = False)"
   ]
  },
  {
   "cell_type": "code",
   "execution_count": 9,
   "id": "1083715f",
   "metadata": {},
   "outputs": [
    {
     "data": {
      "application/vnd.jupyter.widget-view+json": {
       "model_id": "ed8bc05759b44725ba3ecf83d8ff2e62",
       "version_major": 2,
       "version_minor": 0
      },
      "text/plain": [
       "VBox()"
      ]
     },
     "metadata": {},
     "output_type": "display_data"
    },
    {
     "data": {
      "application/vnd.jupyter.widget-view+json": {
       "model_id": "",
       "version_major": 2,
       "version_minor": 0
      },
      "text/plain": [
       "FloatProgress(value=0.0, bar_style='info', description='Progress:', layout=Layout(height='25px', width='50%'),…"
      ]
     },
     "metadata": {},
     "output_type": "display_data"
    }
   ],
   "source": [
    "# Task 02 Cell 1 out of 2\n",
    "# 2.1 - string operations to remove square brakets\n",
    "\n",
    "raw_recipes_df = raw_recipes_df.withColumn('nutrition',\n",
    "                                            F.regexp_replace(F.col('nutrition'), '[\\[\\]]',\"\"))"
   ]
  },
  {
   "cell_type": "code",
   "execution_count": 10,
   "id": "d4036d67",
   "metadata": {},
   "outputs": [
    {
     "data": {
      "application/vnd.jupyter.widget-view+json": {
       "model_id": "e55c36dae86d435e8056638a319c4cd5",
       "version_major": 2,
       "version_minor": 0
      },
      "text/plain": [
       "VBox()"
      ]
     },
     "metadata": {},
     "output_type": "display_data"
    },
    {
     "data": {
      "application/vnd.jupyter.widget-view+json": {
       "model_id": "",
       "version_major": 2,
       "version_minor": 0
      },
      "text/plain": [
       "FloatProgress(value=0.0, bar_style='info', description='Progress:', layout=Layout(height='25px', width='50%'),…"
      ]
     },
     "metadata": {},
     "output_type": "display_data"
    },
    {
     "name": "stdout",
     "output_type": "stream",
     "text": [
      "+----------------------------------------+\n",
      "|nutrition                               |\n",
      "+----------------------------------------+\n",
      "|51.5, 0.0, 13.0, 0.0, 2.0, 0.0, 4.0     |\n",
      "|173.4, 18.0, 0.0, 17.0, 22.0, 35.0, 1.0 |\n",
      "|269.8, 22.0, 32.0, 48.0, 39.0, 27.0, 5.0|\n",
      "+----------------------------------------+\n",
      "only showing top 3 rows"
     ]
    }
   ],
   "source": [
    "# displaying nutrition column\n",
    "\n",
    "raw_recipes_df.select('nutrition').show(3,truncate = False)"
   ]
  },
  {
   "cell_type": "code",
   "execution_count": 11,
   "id": "7c2a3cc8",
   "metadata": {},
   "outputs": [
    {
     "data": {
      "application/vnd.jupyter.widget-view+json": {
       "model_id": "70c8dbe4d59f4a28b23525ec3970ab91",
       "version_major": 2,
       "version_minor": 0
      },
      "text/plain": [
       "VBox()"
      ]
     },
     "metadata": {},
     "output_type": "display_data"
    },
    {
     "data": {
      "application/vnd.jupyter.widget-view+json": {
       "model_id": "",
       "version_major": 2,
       "version_minor": 0
      },
      "text/plain": [
       "FloatProgress(value=0.0, bar_style='info', description='Progress:', layout=Layout(height='25px', width='50%'),…"
      ]
     },
     "metadata": {},
     "output_type": "display_data"
    }
   ],
   "source": [
    "# Task 02 Cell 2 out of 2\n",
    "# STEP 2.2 - split the neutrition string into seven individial values. \n",
    "\n",
    "# Creating an object to split the nutrition column\n",
    "\n",
    "Nutrition_Col_Split = F.split(F.col(\"nutrition\"),',')\n",
    "\n",
    "\n",
    "# Writing a loop to extract individual values from the nutrition column\n",
    "\n",
    "for col_index, col_name in enumerate(nutrition_column_names):\n",
    "    # col_index holds the index number of each column, e.g., calories will be 0\n",
    "    # col_name holds the name of each column \n",
    "    \n",
    "    raw_recipes_df = (raw_recipes_df.withColumn(col_name,\n",
    "                                                Nutrition_Col_Split[col_index].cast('float')\n",
    "                                               ))"
   ]
  },
  {
   "cell_type": "markdown",
   "id": "4763390d",
   "metadata": {},
   "source": [
    "**Test cases for task 02**"
   ]
  },
  {
   "cell_type": "code",
   "execution_count": 12,
   "id": "7323e7ff",
   "metadata": {
    "scrolled": true
   },
   "outputs": [
    {
     "data": {
      "application/vnd.jupyter.widget-view+json": {
       "model_id": "19368f91dacc4038a486cdba11f9a425",
       "version_major": 2,
       "version_minor": 0
      },
      "text/plain": [
       "VBox()"
      ]
     },
     "metadata": {},
     "output_type": "display_data"
    },
    {
     "data": {
      "application/vnd.jupyter.widget-view+json": {
       "model_id": "",
       "version_major": 2,
       "version_minor": 0
      },
      "text/plain": [
       "FloatProgress(value=0.0, bar_style='info', description='Progress:', layout=Layout(height='25px', width='50%'),…"
      ]
     },
     "metadata": {},
     "output_type": "display_data"
    }
   ],
   "source": [
    "# Code check cell\n",
    "# Do not edit cells with assert commands\n",
    "# If an error is shown after running this cell, please recheck your code.  \n",
    "\n",
    "assert raw_recipes_df.schema[\"carbohydrates_PDV\"].dataType == FloatType(), \"Recheck your typecasting\"\n",
    "assert raw_recipes_df.collect()[123432][14] == 62.0, \"The columns have not been split correctly.\"\n",
    "assert raw_recipes_df.collect()[10000][12] == 60.400001525878906, \"The columns have not been split correctly.\""
   ]
  },
  {
   "cell_type": "markdown",
   "id": "0eb0277c",
   "metadata": {},
   "source": [
    "## Make nutrition-per-100 calorie columns\n",
    "\n",
    "By converting the nutrition values from absolute to relative terms, we ensure that portion size is not a factor in the analysis. \n"
   ]
  },
  {
   "cell_type": "markdown",
   "id": "8ac526a5",
   "metadata": {},
   "source": [
    "Naming convention: Original column name ```total fat (PDV)```, column name after column ```total_fat_per_100_cal```"
   ]
  },
  {
   "cell_type": "markdown",
   "id": "55662bc0",
   "metadata": {},
   "source": [
    "## <font color='red'>Task 03: Standardize the nutrition values </font>"
   ]
  },
  {
   "cell_type": "markdown",
   "id": "3affae2f",
   "metadata": {},
   "source": [
    "### <font color='blue'>Solution to Task 3 </font>"
   ]
  },
  {
   "cell_type": "code",
   "execution_count": 13,
   "id": "237faab1",
   "metadata": {},
   "outputs": [
    {
     "data": {
      "application/vnd.jupyter.widget-view+json": {
       "model_id": "1b7f514aefd4495aa6534099b5e1eb13",
       "version_major": 2,
       "version_minor": 0
      },
      "text/plain": [
       "VBox()"
      ]
     },
     "metadata": {},
     "output_type": "display_data"
    },
    {
     "data": {
      "application/vnd.jupyter.widget-view+json": {
       "model_id": "",
       "version_major": 2,
       "version_minor": 0
      },
      "text/plain": [
       "FloatProgress(value=0.0, bar_style='info', description='Progress:', layout=Layout(height='25px', width='50%'),…"
      ]
     },
     "metadata": {},
     "output_type": "display_data"
    }
   ],
   "source": [
    "# Task 03 Cell 1 out of 1\n",
    "\n",
    "# looping over each of the newly created nutrition columns \n",
    "for nutrition_col in nutrition_column_names: \n",
    "    if nutrition_col!= 'calories':\n",
    "        \n",
    "        # following code will name the new columns \n",
    "        nutrition_per_100_cal_col = (nutrition_col\n",
    "                                     .replace('_PDV','') +'_per_100_cal')\n",
    "        # Standardize the nutrition values \n",
    "        raw_recipes_df = raw_recipes_df.withColumn(nutrition_per_100_cal_col,\n",
    "                                               (F.col(nutrition_col)*100)\n",
    "                                                   /F.col(\"calories\"))\n",
    "                                                  \n",
    "        # pyspark code to fill nulls with 0 in only the current nutrition_per_100_cal_col \n",
    "        raw_recipes_df = raw_recipes_df.na.fill(0,nutrition_per_100_cal_col) "
   ]
  },
  {
   "cell_type": "markdown",
   "id": "d2656a22",
   "metadata": {},
   "source": [
    "**Test cases for Task 03**"
   ]
  },
  {
   "cell_type": "code",
   "execution_count": 14,
   "id": "8a97ad4c",
   "metadata": {},
   "outputs": [
    {
     "data": {
      "application/vnd.jupyter.widget-view+json": {
       "model_id": "fe48e1f2192f4bc39eb835bf978000ef",
       "version_major": 2,
       "version_minor": 0
      },
      "text/plain": [
       "VBox()"
      ]
     },
     "metadata": {},
     "output_type": "display_data"
    },
    {
     "data": {
      "application/vnd.jupyter.widget-view+json": {
       "model_id": "",
       "version_major": 2,
       "version_minor": 0
      },
      "text/plain": [
       "FloatProgress(value=0.0, bar_style='info', description='Progress:', layout=Layout(height='25px', width='50%'),…"
      ]
     },
     "metadata": {},
     "output_type": "display_data"
    }
   ],
   "source": [
    "# total fat check for id 28881\n",
    "assert raw_recipes_df.filter(\"id == 28881\").select('total_fat_per_100_cal').first()[0] == 0, \"total_fat_per_100_cal for recipe 28881 should be 0\"\n",
    "\n",
    "# total fat check for id 112140\n",
    "assert round(raw_recipes_df.filter(\"id == 112140\").select('total_fat_per_100_cal').first()[0]) == 8, \"total_fat_per_100_cal for recipe 112140 should be 8\"\n",
    "\n",
    "# checking for nulls\n",
    "for c in ['total_fat_per_100_cal','sugar_per_100_cal','sodium_per_100_cal','protein_per_100_cal',\n",
    "                          'saturated_fat_per_100_cal','carbohydrates_per_100_cal']:\n",
    "    assert raw_recipes_df.select(F.count(F.when(F.isnan(c) | F.col(c).isNull(), c)).alias(c)).collect()[0][0] == 0, \"There are Nulls in the data\""
   ]
  },
  {
   "cell_type": "markdown",
   "id": "2bd6ac1d",
   "metadata": {},
   "source": [
    "## <font color='red'>Task 04: Convert the tags column from a string to an array of strings </font>"
   ]
  },
  {
   "cell_type": "markdown",
   "id": "a7580844",
   "metadata": {},
   "source": [
    "### <font color='blue'>Solution to Task 4 </font>"
   ]
  },
  {
   "cell_type": "code",
   "execution_count": 15,
   "id": "e24182a6",
   "metadata": {},
   "outputs": [
    {
     "data": {
      "application/vnd.jupyter.widget-view+json": {
       "model_id": "33c61fd5d6d8424c98424045c94e374f",
       "version_major": 2,
       "version_minor": 0
      },
      "text/plain": [
       "VBox()"
      ]
     },
     "metadata": {},
     "output_type": "display_data"
    },
    {
     "data": {
      "application/vnd.jupyter.widget-view+json": {
       "model_id": "",
       "version_major": 2,
       "version_minor": 0
      },
      "text/plain": [
       "FloatProgress(value=0.0, bar_style='info', description='Progress:', layout=Layout(height='25px', width='50%'),…"
      ]
     },
     "metadata": {},
     "output_type": "display_data"
    },
    {
     "name": "stdout",
     "output_type": "stream",
     "text": [
      "+--------------------------------------------------------------------------------------------------------------------------------------------------------------------------------------------------------------------------------------------------------------------------------+\n",
      "|tags                                                                                                                                                                                                                                                                            |\n",
      "+--------------------------------------------------------------------------------------------------------------------------------------------------------------------------------------------------------------------------------------------------------------------------------+\n",
      "|['60-minutes-or-less', 'time-to-make', 'course', 'main-ingredient', 'cuisine', 'preparation', 'occasion', 'north-american', 'side-dishes', 'vegetables', 'mexican', 'easy', 'fall', 'holiday-event', 'vegetarian', 'winter', 'dietary', 'christmas', 'seasonal', 'squash']      |\n",
      "|['30-minutes-or-less', 'time-to-make', 'course', 'main-ingredient', 'cuisine', 'preparation', 'occasion', 'north-american', 'breakfast', 'main-dish', 'pork', 'american', 'oven', 'easy', 'kid-friendly', 'pizza', 'dietary', 'northeastern-united-states', 'meat', 'equipment']|\n",
      "|['time-to-make', 'course', 'preparation', 'main-dish', 'chili', 'crock-pot-slow-cooker', 'dietary', 'equipment', '4-hours-or-less']                                                                                                                                             |\n",
      "+--------------------------------------------------------------------------------------------------------------------------------------------------------------------------------------------------------------------------------------------------------------------------------+\n",
      "only showing top 3 rows"
     ]
    }
   ],
   "source": [
    "# displaying first 3 values of 'tags' column\n",
    "raw_recipes_df.select('tags').show(3,truncate = False)"
   ]
  },
  {
   "cell_type": "code",
   "execution_count": 16,
   "id": "de93a55c",
   "metadata": {},
   "outputs": [
    {
     "data": {
      "application/vnd.jupyter.widget-view+json": {
       "model_id": "2c13a40e81d0424096fc5f41113c6a3f",
       "version_major": 2,
       "version_minor": 0
      },
      "text/plain": [
       "VBox()"
      ]
     },
     "metadata": {},
     "output_type": "display_data"
    },
    {
     "data": {
      "application/vnd.jupyter.widget-view+json": {
       "model_id": "",
       "version_major": 2,
       "version_minor": 0
      },
      "text/plain": [
       "FloatProgress(value=0.0, bar_style='info', description='Progress:', layout=Layout(height='25px', width='50%'),…"
      ]
     },
     "metadata": {},
     "output_type": "display_data"
    },
    {
     "name": "stdout",
     "output_type": "stream",
     "text": [
      "StringType"
     ]
    }
   ],
   "source": [
    "# data type of \"tags\" column\n",
    "raw_recipes_df.schema[\"tags\"].dataType"
   ]
  },
  {
   "cell_type": "code",
   "execution_count": 17,
   "id": "3971d2cf",
   "metadata": {},
   "outputs": [
    {
     "data": {
      "application/vnd.jupyter.widget-view+json": {
       "model_id": "3a7e85a35bb74230908ba5386aea63cb",
       "version_major": 2,
       "version_minor": 0
      },
      "text/plain": [
       "VBox()"
      ]
     },
     "metadata": {},
     "output_type": "display_data"
    },
    {
     "data": {
      "application/vnd.jupyter.widget-view+json": {
       "model_id": "",
       "version_major": 2,
       "version_minor": 0
      },
      "text/plain": [
       "FloatProgress(value=0.0, bar_style='info', description='Progress:', layout=Layout(height='25px', width='50%'),…"
      ]
     },
     "metadata": {},
     "output_type": "display_data"
    }
   ],
   "source": [
    "# Task 04 Cell 1 out of 1\n",
    "\n",
    "# pyspark function to remove symbols like '[' ']' \"'\" from the strings in the tags column.\n",
    "\n",
    "raw_recipes_df = (raw_recipes_df\n",
    "                  .withColumn('tags', \n",
    "                              F.regexp_replace(F.col(\"tags\"),\"[\\[\\]\\']\",\"\")\n",
    "                             )\n",
    "                  .withColumn('tags', F.split(F.col(\"tags\"),\", \")\n",
    "                              )\n",
    "                  )"
   ]
  },
  {
   "cell_type": "code",
   "execution_count": 18,
   "id": "0bb06a3b",
   "metadata": {},
   "outputs": [
    {
     "data": {
      "application/vnd.jupyter.widget-view+json": {
       "model_id": "a1dfff55f2fa4a84bd0b07c0d579c25b",
       "version_major": 2,
       "version_minor": 0
      },
      "text/plain": [
       "VBox()"
      ]
     },
     "metadata": {},
     "output_type": "display_data"
    },
    {
     "data": {
      "application/vnd.jupyter.widget-view+json": {
       "model_id": "",
       "version_major": 2,
       "version_minor": 0
      },
      "text/plain": [
       "FloatProgress(value=0.0, bar_style='info', description='Progress:', layout=Layout(height='25px', width='50%'),…"
      ]
     },
     "metadata": {},
     "output_type": "display_data"
    },
    {
     "name": "stdout",
     "output_type": "stream",
     "text": [
      "ArrayType(StringType,true)"
     ]
    }
   ],
   "source": [
    "# data type of \"tags\" column\n",
    "raw_recipes_df.schema[\"tags\"].dataType"
   ]
  },
  {
   "cell_type": "code",
   "execution_count": 19,
   "id": "1059dcfe",
   "metadata": {
    "scrolled": false
   },
   "outputs": [
    {
     "data": {
      "application/vnd.jupyter.widget-view+json": {
       "model_id": "bb7dd44ae14243d3b13a55e26cef00d5",
       "version_major": 2,
       "version_minor": 0
      },
      "text/plain": [
       "VBox()"
      ]
     },
     "metadata": {},
     "output_type": "display_data"
    },
    {
     "data": {
      "application/vnd.jupyter.widget-view+json": {
       "model_id": "",
       "version_major": 2,
       "version_minor": 0
      },
      "text/plain": [
       "FloatProgress(value=0.0, bar_style='info', description='Progress:', layout=Layout(height='25px', width='50%'),…"
      ]
     },
     "metadata": {},
     "output_type": "display_data"
    },
    {
     "name": "stdout",
     "output_type": "stream",
     "text": [
      "+----------------------------------------------------------------------------------------------------------------------------------------------------------------------------------------------------------------------------------------+\n",
      "|tags                                                                                                                                                                                                                                    |\n",
      "+----------------------------------------------------------------------------------------------------------------------------------------------------------------------------------------------------------------------------------------+\n",
      "|[60-minutes-or-less, time-to-make, course, main-ingredient, cuisine, preparation, occasion, north-american, side-dishes, vegetables, mexican, easy, fall, holiday-event, vegetarian, winter, dietary, christmas, seasonal, squash]      |\n",
      "|[30-minutes-or-less, time-to-make, course, main-ingredient, cuisine, preparation, occasion, north-american, breakfast, main-dish, pork, american, oven, easy, kid-friendly, pizza, dietary, northeastern-united-states, meat, equipment]|\n",
      "|[time-to-make, course, preparation, main-dish, chili, crock-pot-slow-cooker, dietary, equipment, 4-hours-or-less]                                                                                                                       |\n",
      "+----------------------------------------------------------------------------------------------------------------------------------------------------------------------------------------------------------------------------------------+\n",
      "only showing top 3 rows"
     ]
    }
   ],
   "source": [
    "# displaying first 3 values of 'tags' column\n",
    "raw_recipes_df.select('tags').show(3,truncate = False)"
   ]
  },
  {
   "cell_type": "markdown",
   "id": "abea8362",
   "metadata": {},
   "source": [
    "**Test cases for Task 04**"
   ]
  },
  {
   "cell_type": "code",
   "execution_count": 20,
   "id": "493f28b6",
   "metadata": {},
   "outputs": [
    {
     "data": {
      "application/vnd.jupyter.widget-view+json": {
       "model_id": "ac759036e9c74817badb061d42c5ae42",
       "version_major": 2,
       "version_minor": 0
      },
      "text/plain": [
       "VBox()"
      ]
     },
     "metadata": {},
     "output_type": "display_data"
    },
    {
     "data": {
      "application/vnd.jupyter.widget-view+json": {
       "model_id": "",
       "version_major": 2,
       "version_minor": 0
      },
      "text/plain": [
       "FloatProgress(value=0.0, bar_style='info', description='Progress:', layout=Layout(height='25px', width='50%'),…"
      ]
     },
     "metadata": {},
     "output_type": "display_data"
    }
   ],
   "source": [
    "# Code check cell\n",
    "# Do not edit cells with assert commands\n",
    "# If an error is shown after running this cell, please recheck your code.  \n",
    "\n",
    "assert raw_recipes_df.schema[\"tags\"].dataType == ArrayType(StringType(), True), \"You have not split the string into an array.\"\n",
    "assert raw_recipes_df.collect()[2][5] == ['time-to-make','course', 'preparation', 'main-dish', 'chili', 'crock-pot-slow-cooker', 'dietary', 'equipment', '4-hours-or-less'], \"Recheck your string cleaning and splitting operations.\""
   ]
  },
  {
   "cell_type": "markdown",
   "id": "96e3185b",
   "metadata": {},
   "source": [
    "## Join Recipe Data to Review Data"
   ]
  },
  {
   "cell_type": "code",
   "execution_count": 21,
   "id": "63fba4f5",
   "metadata": {},
   "outputs": [
    {
     "data": {
      "application/vnd.jupyter.widget-view+json": {
       "model_id": "abd8d373bd904d6db8dd95c0b8c1f297",
       "version_major": 2,
       "version_minor": 0
      },
      "text/plain": [
       "VBox()"
      ]
     },
     "metadata": {},
     "output_type": "display_data"
    },
    {
     "data": {
      "application/vnd.jupyter.widget-view+json": {
       "model_id": "",
       "version_major": 2,
       "version_minor": 0
      },
      "text/plain": [
       "FloatProgress(value=0.0, bar_style='info', description='Progress:', layout=Layout(height='25px', width='50%'),…"
      ]
     },
     "metadata": {},
     "output_type": "display_data"
    }
   ],
   "source": [
    "# Reading the second data set. \n",
    "# keep this cell unedited\n",
    "\n",
    "raw_ratings_df = (spark.read.csv(\"s3a://raw-interactions-upgrad/RAW_interactions_cleaned.csv\", \n",
    "                                 header=True, \n",
    "                                 inferSchema= True)\n",
    "                  .withColumn(\"review_date\",  F.col(\"date\"))\n",
    "                  .drop(F.col(\"date\"))\n",
    "                  )"
   ]
  },
  {
   "cell_type": "code",
   "execution_count": 22,
   "id": "0bc9becb",
   "metadata": {},
   "outputs": [
    {
     "data": {
      "application/vnd.jupyter.widget-view+json": {
       "model_id": "5e8579f51e844e46820260cee732e174",
       "version_major": 2,
       "version_minor": 0
      },
      "text/plain": [
       "VBox()"
      ]
     },
     "metadata": {},
     "output_type": "display_data"
    },
    {
     "data": {
      "application/vnd.jupyter.widget-view+json": {
       "model_id": "",
       "version_major": 2,
       "version_minor": 0
      },
      "text/plain": [
       "FloatProgress(value=0.0, bar_style='info', description='Progress:', layout=Layout(height='25px', width='50%'),…"
      ]
     },
     "metadata": {},
     "output_type": "display_data"
    },
    {
     "name": "stdout",
     "output_type": "stream",
     "text": [
      "+-------+---------+------+--------------------+-----------+\n",
      "|user_id|recipe_id|rating|              review|review_date|\n",
      "+-------+---------+------+--------------------+-----------+\n",
      "|  38094|    40893|     4|Great with a sala...| 2003-02-17|\n",
      "|1293707|    40893|     5|So simple  so del...| 2011-12-21|\n",
      "|   8937|    44394|     4|This worked very ...| 2002-12-01|\n",
      "| 126440|    85009|     5|I made the Mexica...| 2010-02-27|\n",
      "|  57222|    85009|     5|Made the cheddar ...| 2011-10-01|\n",
      "+-------+---------+------+--------------------+-----------+\n",
      "only showing top 5 rows"
     ]
    }
   ],
   "source": [
    "# displaying raw_ratings_df\n",
    "raw_ratings_df.show(5)"
   ]
  },
  {
   "cell_type": "code",
   "execution_count": 23,
   "id": "31b18096",
   "metadata": {},
   "outputs": [
    {
     "data": {
      "application/vnd.jupyter.widget-view+json": {
       "model_id": "50111824ef41441398eac0a69b6de429",
       "version_major": 2,
       "version_minor": 0
      },
      "text/plain": [
       "VBox()"
      ]
     },
     "metadata": {},
     "output_type": "display_data"
    },
    {
     "data": {
      "application/vnd.jupyter.widget-view+json": {
       "model_id": "",
       "version_major": 2,
       "version_minor": 0
      },
      "text/plain": [
       "FloatProgress(value=0.0, bar_style='info', description='Progress:', layout=Layout(height='25px', width='50%'),…"
      ]
     },
     "metadata": {},
     "output_type": "display_data"
    },
    {
     "name": "stdout",
     "output_type": "stream",
     "text": [
      "root\n",
      " |-- user_id: integer (nullable = true)\n",
      " |-- recipe_id: integer (nullable = true)\n",
      " |-- rating: integer (nullable = true)\n",
      " |-- review: string (nullable = true)\n",
      " |-- review_date: string (nullable = true)"
     ]
    }
   ],
   "source": [
    "# printing the schema of raw_ratings_df\n",
    "raw_ratings_df.printSchema()"
   ]
  },
  {
   "cell_type": "code",
   "execution_count": 24,
   "id": "f4e8cac9",
   "metadata": {},
   "outputs": [
    {
     "data": {
      "application/vnd.jupyter.widget-view+json": {
       "model_id": "d4cd90f327ae4c16850a5023ec8effe6",
       "version_major": 2,
       "version_minor": 0
      },
      "text/plain": [
       "VBox()"
      ]
     },
     "metadata": {},
     "output_type": "display_data"
    },
    {
     "data": {
      "application/vnd.jupyter.widget-view+json": {
       "model_id": "",
       "version_major": 2,
       "version_minor": 0
      },
      "text/plain": [
       "FloatProgress(value=0.0, bar_style='info', description='Progress:', layout=Layout(height='25px', width='50%'),…"
      ]
     },
     "metadata": {},
     "output_type": "display_data"
    }
   ],
   "source": [
    "# Code check cell\n",
    "# Do not edit cells with assert commands\n",
    "# If an error is shown after running this cell, please recheck your code.  \n",
    "\n",
    "assert raw_ratings_df.count() == 1132367, \"There is a mistake in reading the data.\"\n",
    "assert len(raw_ratings_df.columns) == 5, \"There is a mistake in reading the data.\""
   ]
  },
  {
   "cell_type": "markdown",
   "id": "9e6335b6",
   "metadata": {},
   "source": [
    "## <font color='red'>Task 05: Read the second data file </font>"
   ]
  },
  {
   "cell_type": "markdown",
   "id": "4f87f2f0",
   "metadata": {},
   "source": [
    "### <font color='blue'>Solution to Task 5 </font>\n"
   ]
  },
  {
   "cell_type": "code",
   "execution_count": 25,
   "id": "800f2ecc",
   "metadata": {},
   "outputs": [
    {
     "data": {
      "application/vnd.jupyter.widget-view+json": {
       "model_id": "d98b26e2ecb44273a9eb180ef0102b65",
       "version_major": 2,
       "version_minor": 0
      },
      "text/plain": [
       "VBox()"
      ]
     },
     "metadata": {},
     "output_type": "display_data"
    },
    {
     "data": {
      "application/vnd.jupyter.widget-view+json": {
       "model_id": "",
       "version_major": 2,
       "version_minor": 0
      },
      "text/plain": [
       "FloatProgress(value=0.0, bar_style='info', description='Progress:', layout=Layout(height='25px', width='50%'),…"
      ]
     },
     "metadata": {},
     "output_type": "display_data"
    }
   ],
   "source": [
    "# Task 05 Cell 1 out of 1\n",
    "\n",
    "interaction_level_df = raw_ratings_df.join(raw_recipes_df,\n",
    "                                           # key on which the join should happen\n",
    "                                           raw_ratings_df.recipe_id==raw_recipes_df.id,\n",
    "                                           # type of join expected\n",
    "                                           'left'\n",
    "                                           )"
   ]
  },
  {
   "cell_type": "markdown",
   "id": "1a20faf3",
   "metadata": {},
   "source": [
    "**Test cases for Task 05**"
   ]
  },
  {
   "cell_type": "code",
   "execution_count": 26,
   "id": "7a59d3cb",
   "metadata": {},
   "outputs": [
    {
     "data": {
      "application/vnd.jupyter.widget-view+json": {
       "model_id": "c61fd27fb3394ed7a27317912e12a1f8",
       "version_major": 2,
       "version_minor": 0
      },
      "text/plain": [
       "VBox()"
      ]
     },
     "metadata": {},
     "output_type": "display_data"
    },
    {
     "data": {
      "application/vnd.jupyter.widget-view+json": {
       "model_id": "",
       "version_major": 2,
       "version_minor": 0
      },
      "text/plain": [
       "FloatProgress(value=0.0, bar_style='info', description='Progress:', layout=Layout(height='25px', width='50%'),…"
      ]
     },
     "metadata": {},
     "output_type": "display_data"
    }
   ],
   "source": [
    "# Code check cell\n",
    "# Do not edit cells with assert commands\n",
    "# If an error is shown after running this cell, please recheck your code.  \n",
    "\n",
    "assert (interaction_level_df.count() ,len(interaction_level_df.columns)) == (1132367, 30), \"The type of join is incorrect\"\n",
    "\n",
    "list1 = raw_ratings_df.select('recipe_id').collect()\n",
    "list2 = raw_recipes_df.select('id').collect()\n",
    "exclusive_set = set(list1)-set(list2)\n",
    "\n",
    "assert len(exclusive_set) == 0, \"There is a mistake in reading one of the two data files.\""
   ]
  },
  {
   "cell_type": "markdown",
   "id": "470302a4",
   "metadata": {},
   "source": [
    "## <font color='red'>Task 06:  Create time-based features</font>\n"
   ]
  },
  {
   "cell_type": "markdown",
   "id": "dc67d3ac",
   "metadata": {},
   "source": [
    "### <font color='blue'>Solution to Task 6 </font>\n"
   ]
  },
  {
   "cell_type": "code",
   "execution_count": 27,
   "id": "4325e82b",
   "metadata": {},
   "outputs": [
    {
     "data": {
      "application/vnd.jupyter.widget-view+json": {
       "model_id": "eb0e22ec0e5947309e6d569e9ce34217",
       "version_major": 2,
       "version_minor": 0
      },
      "text/plain": [
       "VBox()"
      ]
     },
     "metadata": {},
     "output_type": "display_data"
    },
    {
     "data": {
      "application/vnd.jupyter.widget-view+json": {
       "model_id": "",
       "version_major": 2,
       "version_minor": 0
      },
      "text/plain": [
       "FloatProgress(value=0.0, bar_style='info', description='Progress:', layout=Layout(height='25px', width='50%'),…"
      ]
     },
     "metadata": {},
     "output_type": "display_data"
    }
   ],
   "source": [
    "# Task 06 Cell 1 out of 2\n",
    "\n",
    "interaction_level_df = (interaction_level_df\n",
    "                        .withColumn('submitted', F.col(\"submitted\").cast('Date')\n",
    "                                    # pyspark function to cast a column to DateType()\n",
    "                                   )\n",
    "                        .withColumn('review_date', F.col(\"review_date\").cast('Date')\n",
    "                                    # pyspark function to cast a column to DateType()\n",
    "                                   )\n",
    "                                             \n",
    "                       )"
   ]
  },
  {
   "cell_type": "code",
   "execution_count": 28,
   "id": "dc2f5452",
   "metadata": {
    "scrolled": false
   },
   "outputs": [
    {
     "data": {
      "application/vnd.jupyter.widget-view+json": {
       "model_id": "49658aa8a6dd440193af1ba051609c05",
       "version_major": 2,
       "version_minor": 0
      },
      "text/plain": [
       "VBox()"
      ]
     },
     "metadata": {},
     "output_type": "display_data"
    },
    {
     "data": {
      "application/vnd.jupyter.widget-view+json": {
       "model_id": "",
       "version_major": 2,
       "version_minor": 0
      },
      "text/plain": [
       "FloatProgress(value=0.0, bar_style='info', description='Progress:', layout=Layout(height='25px', width='50%'),…"
      ]
     },
     "metadata": {},
     "output_type": "display_data"
    }
   ],
   "source": [
    "interaction_level_df = (interaction_level_df\n",
    "                        .withColumn('days_since_submission_on_review_date',\n",
    "                                    F.datediff(interaction_level_df.review_date,interaction_level_df.submitted)\n",
    "                                     # Pyspark function to find the number of days between two dates              \n",
    "                                   )\n",
    "                        .withColumn('months_since_submission_on_review_date',\n",
    "                                F.months_between(interaction_level_df.review_date,interaction_level_df.submitted)\n",
    "\n",
    "                                     # Pyspark function to find the number of months between two dates          \n",
    "                                   )\n",
    "                        .withColumn('years_since_submission_on_review_date',\n",
    "                         F.months_between(interaction_level_df.review_date,interaction_level_df.submitted)/12\n",
    "\n",
    "                                     # Pyspark function to find the number of months between two dates / 12          \n",
    "                                   )\n",
    "                         )"
   ]
  },
  {
   "cell_type": "markdown",
   "id": "32301322",
   "metadata": {},
   "source": [
    "**Test cases for Task 06**"
   ]
  },
  {
   "cell_type": "code",
   "execution_count": 29,
   "id": "416eb59e",
   "metadata": {},
   "outputs": [
    {
     "data": {
      "application/vnd.jupyter.widget-view+json": {
       "model_id": "3184b37246f9433890e8361672fa0a78",
       "version_major": 2,
       "version_minor": 0
      },
      "text/plain": [
       "VBox()"
      ]
     },
     "metadata": {},
     "output_type": "display_data"
    },
    {
     "data": {
      "application/vnd.jupyter.widget-view+json": {
       "model_id": "",
       "version_major": 2,
       "version_minor": 0
      },
      "text/plain": [
       "FloatProgress(value=0.0, bar_style='info', description='Progress:', layout=Layout(height='25px', width='50%'),…"
      ]
     },
     "metadata": {},
     "output_type": "display_data"
    }
   ],
   "source": [
    "# Code check cell\n",
    "# Do not edit cells with assert commands\n",
    "# If an error is shown after running this cell, please recheck your code.  \n",
    "\n",
    "assert interaction_level_df.schema[\"days_since_submission_on_review_date\"].dataType == IntegerType()\n",
    "\n",
    "assert (interaction_level_df.filter((interaction_level_df.user_id == 428885) & (interaction_level_df.recipe_id == 335241))\n",
    "                            .select('days_since_submission_on_review_date').collect()[0][0]) == 77\n",
    "assert (interaction_level_df.filter((interaction_level_df.user_id == 2025676) & (interaction_level_df.recipe_id == 94265))\n",
    "                            .select('months_since_submission_on_review_date').collect()[0][0]) == 153.22580645\n",
    "assert (interaction_level_df.filter((interaction_level_df.user_id == 338588) & (interaction_level_df.recipe_id == 21859))\n",
    "                            .select('years_since_submission_on_review_date').collect()[0][0]) == 4.564516129166667"
   ]
  },
  {
   "cell_type": "markdown",
   "id": "794e0e3e",
   "metadata": {},
   "source": [
    "## Saving the data we have created so far in a parquet file. "
   ]
  },
  {
   "cell_type": "code",
   "execution_count": 30,
   "id": "24f6017a",
   "metadata": {
    "scrolled": false
   },
   "outputs": [
    {
     "data": {
      "application/vnd.jupyter.widget-view+json": {
       "model_id": "ce19d292872b40c3b335b23ceed55e31",
       "version_major": 2,
       "version_minor": 0
      },
      "text/plain": [
       "VBox()"
      ]
     },
     "metadata": {},
     "output_type": "display_data"
    },
    {
     "data": {
      "application/vnd.jupyter.widget-view+json": {
       "model_id": "",
       "version_major": 2,
       "version_minor": 0
      },
      "text/plain": [
       "FloatProgress(value=0.0, bar_style='info', description='Progress:', layout=Layout(height='25px', width='50%'),…"
      ]
     },
     "metadata": {},
     "output_type": "display_data"
    },
    {
     "name": "stdout",
     "output_type": "stream",
     "text": [
      "root\n",
      " |-- user_id: integer (nullable = true)\n",
      " |-- recipe_id: integer (nullable = true)\n",
      " |-- rating: integer (nullable = true)\n",
      " |-- review: string (nullable = true)\n",
      " |-- review_date: date (nullable = true)\n",
      " |-- name: string (nullable = true)\n",
      " |-- id: integer (nullable = true)\n",
      " |-- minutes: integer (nullable = true)\n",
      " |-- contributor_id: integer (nullable = true)\n",
      " |-- submitted: date (nullable = true)\n",
      " |-- tags: array (nullable = true)\n",
      " |    |-- element: string (containsNull = true)\n",
      " |-- nutrition: string (nullable = true)\n",
      " |-- n_steps: integer (nullable = true)\n",
      " |-- steps: string (nullable = true)\n",
      " |-- description: string (nullable = true)\n",
      " |-- ingredients: string (nullable = true)\n",
      " |-- n_ingredients: integer (nullable = true)\n",
      " |-- calories: float (nullable = true)\n",
      " |-- total_fat_PDV: float (nullable = true)\n",
      " |-- sugar_PDV: float (nullable = true)\n",
      " |-- sodium_PDV: float (nullable = true)\n",
      " |-- protein_PDV: float (nullable = true)\n",
      " |-- saturated_fat_PDV: float (nullable = true)\n",
      " |-- carbohydrates_PDV: float (nullable = true)\n",
      " |-- total_fat_per_100_cal: double (nullable = true)\n",
      " |-- sugar_per_100_cal: double (nullable = true)\n",
      " |-- sodium_per_100_cal: double (nullable = true)\n",
      " |-- protein_per_100_cal: double (nullable = true)\n",
      " |-- saturated_fat_per_100_cal: double (nullable = true)\n",
      " |-- carbohydrates_per_100_cal: double (nullable = true)\n",
      " |-- days_since_submission_on_review_date: integer (nullable = true)\n",
      " |-- months_since_submission_on_review_date: double (nullable = true)\n",
      " |-- years_since_submission_on_review_date: double (nullable = true)"
     ]
    }
   ],
   "source": [
    "# printing the schema of interaction_level_df\n",
    "interaction_level_df.printSchema()"
   ]
  },
  {
   "cell_type": "code",
   "execution_count": 31,
   "id": "864a70a2",
   "metadata": {
    "scrolled": true
   },
   "outputs": [
    {
     "data": {
      "application/vnd.jupyter.widget-view+json": {
       "model_id": "e8d9097a2d514647a73b67f2b69b5bcf",
       "version_major": 2,
       "version_minor": 0
      },
      "text/plain": [
       "VBox()"
      ]
     },
     "metadata": {},
     "output_type": "display_data"
    },
    {
     "data": {
      "application/vnd.jupyter.widget-view+json": {
       "model_id": "",
       "version_major": 2,
       "version_minor": 0
      },
      "text/plain": [
       "FloatProgress(value=0.0, bar_style='info', description='Progress:', layout=Layout(height='25px', width='50%'),…"
      ]
     },
     "metadata": {},
     "output_type": "display_data"
    }
   ],
   "source": [
    "assert (interaction_level_df.count() ,len(interaction_level_df.columns) ) == (1132367, 33)"
   ]
  },
  {
   "cell_type": "code",
   "execution_count": 32,
   "id": "f9421e47",
   "metadata": {},
   "outputs": [
    {
     "data": {
      "application/vnd.jupyter.widget-view+json": {
       "model_id": "a0d4ec7203a24a58aed907340f188046",
       "version_major": 2,
       "version_minor": 0
      },
      "text/plain": [
       "VBox()"
      ]
     },
     "metadata": {},
     "output_type": "display_data"
    },
    {
     "data": {
      "application/vnd.jupyter.widget-view+json": {
       "model_id": "",
       "version_major": 2,
       "version_minor": 0
      },
      "text/plain": [
       "FloatProgress(value=0.0, bar_style='info', description='Progress:', layout=Layout(height='25px', width='50%'),…"
      ]
     },
     "metadata": {},
     "output_type": "display_data"
    }
   ],
   "source": [
    "## Writing the interaction_level_df to S3 bucket\n",
    "\n",
    "interaction_level_df.write.mode('overwrite').parquet('s3://upgrad123-bucket/interaction_level_df_processed.parquet') "
   ]
  }
 ],
 "metadata": {
  "kernelspec": {
   "display_name": "PySpark",
   "language": "python",
   "name": "pysparkkernel"
  },
  "language_info": {
   "codemirror_mode": {
    "name": "python",
    "version": 3
   },
   "file_extension": ".py",
   "mimetype": "text/x-python",
   "name": "pyspark",
   "pygments_lexer": "python3"
  }
 },
 "nbformat": 4,
 "nbformat_minor": 5
}
